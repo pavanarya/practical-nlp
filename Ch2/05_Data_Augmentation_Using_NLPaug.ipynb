{
 "cells": [
  {
   "cell_type": "markdown",
   "metadata": {
    "colab_type": "text",
    "id": "yavI9mt4gayF"
   },
   "source": [
    "## Data Augmentation using NLPaug\n",
    "\n",
    "This notebook demostrate the usage of a character augmenter, word augmenter. There are other types such as augmentation for sentences, audio, spectrogram inputs etc. All of the types many before mentioned types and many more can be found at the [github repo](https://github.com/makcedward/nlpaug) and [docs](https://nlpaug.readthedocs.io/en/latest/) of nlpaug."
   ]
  },
  {
   "cell_type": "code",
   "execution_count": 1,
   "metadata": {
    "ExecuteTime": {
     "end_time": "2021-04-03T11:15:03.818048Z",
     "start_time": "2021-04-03T11:15:01.468101Z"
    },
    "colab": {
     "base_uri": "https://localhost:8080/",
     "height": 610
    },
    "colab_type": "code",
    "id": "cF5zJdr-kAPY",
    "outputId": "7feb4f81-fc71-4634-f9e8-90a7e060888b"
   },
   "outputs": [
    {
     "name": "stdout",
     "output_type": "stream",
     "text": [
      "Collecting nlpaug==0.0.14\n",
      "  Downloading nlpaug-0.0.14-py3-none-any.whl (101 kB)\n",
      "Installing collected packages: nlpaug\n",
      "Successfully installed nlpaug-0.0.14\n"
     ]
    }
   ],
   "source": [
    "#Installing the nlpaug package\n",
    "!pip install nlpaug==0.0.14"
   ]
  },
  {
   "cell_type": "code",
   "execution_count": 2,
   "metadata": {
    "ExecuteTime": {
     "end_time": "2021-04-03T11:15:11.595619Z",
     "start_time": "2021-04-03T11:15:11.593618Z"
    },
    "colab": {},
    "colab_type": "code",
    "id": "8yhkOl3cgZ28"
   },
   "outputs": [],
   "source": [
    "#this will be the base text which we will be using throughout this notebook\n",
    "text=\"The quick brown fox jumps over the lazy dog .\""
   ]
  },
  {
   "cell_type": "code",
   "execution_count": 3,
   "metadata": {
    "ExecuteTime": {
     "end_time": "2021-04-03T11:15:15.458928Z",
     "start_time": "2021-04-03T11:15:12.067195Z"
    },
    "colab": {},
    "colab_type": "code",
    "id": "ekFhzIWHUmoj"
   },
   "outputs": [
    {
     "name": "stderr",
     "output_type": "stream",
     "text": [
      "Cloning into 'nlpaug'...\n"
     ]
    }
   ],
   "source": [
    "import nlpaug.augmenter.char as nac\n",
    "import nlpaug.augmenter.word as naw\n",
    "import nlpaug.augmenter.sentence as nas\n",
    "import nlpaug.flow as nafc\n",
    "\n",
    "from nlpaug.util import Action\n",
    "import os\n",
    "!git clone https://github.com/makcedward/nlpaug.git\n",
    "os.environ[\"MODEL_DIR\"] = 'nlpaug/model/'"
   ]
  },
  {
   "cell_type": "markdown",
   "metadata": {
    "colab_type": "text",
    "id": "-Xo3CzNhh-zU"
   },
   "source": [
    "### Augmentation at the Character Level\n",
    "\n",
    "\n",
    "1.   OCR Augmenter: To read textual data from on image, we need an OCR(optical character recognition) model. Once the text is extracted from the image, there may be errors like; '0' instead of an 'o', '2' instead of 'z' and other such similar errors.  \n",
    "2.   Keyboard Augmenter: While typing/texting typos are fairly common this augmenter simulates the errors by substituting characters in words with ones at a similar distance on a keyboard.\n",
    "\n"
   ]
  },
  {
   "cell_type": "code",
   "execution_count": 4,
   "metadata": {
    "ExecuteTime": {
     "end_time": "2021-04-03T11:15:15.474943Z",
     "start_time": "2021-04-03T11:15:15.459929Z"
    },
    "colab": {
     "base_uri": "https://localhost:8080/",
     "height": 86
    },
    "colab_type": "code",
    "id": "lfAaokTmjzak",
    "outputId": "cfc78e2c-b41c-44a9-da1a-23c33a4c142c"
   },
   "outputs": [
    {
     "name": "stdout",
     "output_type": "stream",
     "text": [
      "Original:\n",
      "The quick brown fox jumps over the lazy dog .\n",
      "Augmented Texts:\n",
      "['The quicr brown fox jumps ovek the lazy dog .', 'The quick bkown fox jumps over the lazy dog .', 'The quicr brown fox jumps over the lazy do9 .']\n"
     ]
    }
   ],
   "source": [
    "#OCR augmenter\n",
    "#import nlpaug.augmenter.char as nac\n",
    "\n",
    "aug = nac.OcrAug()  \n",
    "augmented_texts = aug.augment(text, n=3) #specifying n=3 gives us only 3 augmented versions of the sentence.\n",
    "\n",
    "print(\"Original:\")\n",
    "print(text)\n",
    "\n",
    "print(\"Augmented Texts:\")\n",
    "print(augmented_texts)"
   ]
  },
  {
   "cell_type": "code",
   "execution_count": 5,
   "metadata": {
    "ExecuteTime": {
     "end_time": "2021-04-03T11:15:16.903143Z",
     "start_time": "2021-04-03T11:15:16.880652Z"
    },
    "colab": {
     "base_uri": "https://localhost:8080/",
     "height": 86
    },
    "colab_type": "code",
    "id": "fKQCpS35j9Ie",
    "outputId": "adcb28f2-a6c4-46f6-e780-d52dade97a1b"
   },
   "outputs": [
    {
     "name": "stdout",
     "output_type": "stream",
     "text": [
      "Original:\n",
      "The quick brown fox jumps over the lazy dog .\n",
      "Augmented Text:\n",
      "['The quick brown fox ,umps over the lazy dog .', 'The quivk browm fox jumps over the Kazy dog .', 'The quKck brown fox jumps over the lazy dog .']\n"
     ]
    }
   ],
   "source": [
    "#Keyboard Augmenter\n",
    "#import nlpaug.augmenter.word as naw\n",
    "\n",
    "\n",
    "aug = nac.KeyboardAug()\n",
    "augmented_text = aug.augment(text, n=3) #specifying n=3 gives us only 3 augmented versions of the sentence.\n",
    "\n",
    "print(\"Original:\")\n",
    "print(text)\n",
    "\n",
    "print(\"Augmented Text:\")\n",
    "print(augmented_text)"
   ]
  },
  {
   "cell_type": "markdown",
   "metadata": {
    "colab_type": "text",
    "id": "XbfPMwZWmper"
   },
   "source": [
    "There are other types of character augmenters too. Their details are avaiable in the links mentioned at the beginning of this notebook."
   ]
  },
  {
   "cell_type": "markdown",
   "metadata": {
    "colab_type": "text",
    "id": "MufLJXsQm4i1"
   },
   "source": [
    "### Augmentation at the Word Level\n",
    "\n",
    "Augmentation is important at the word level as well , here we use word2vec to insert or substitute a similar word."
   ]
  },
  {
   "cell_type": "markdown",
   "metadata": {
    "colab_type": "text",
    "id": "Tc_K1-niTGFP"
   },
   "source": [
    "**Spelling** **augmentor**\n"
   ]
  },
  {
   "cell_type": "code",
   "execution_count": 8,
   "metadata": {
    "ExecuteTime": {
     "end_time": "2021-04-03T11:16:58.980739Z",
     "start_time": "2021-04-03T11:16:58.532879Z"
    },
    "colab": {
     "base_uri": "https://localhost:8080/",
     "height": 208
    },
    "colab_type": "code",
    "id": "2Qzmv4QCYrJe",
    "outputId": "2929c51c-5e3c-4a0a-bf7f-7847c48f19f9"
   },
   "outputs": [
    {
     "name": "stdout",
     "output_type": "stream",
     "text": [
      "100% [............................................................................] 543624 / 543624"
     ]
    },
    {
     "data": {
      "text/plain": [
       "'spelling_en.txt'"
      ]
     },
     "execution_count": 8,
     "metadata": {},
     "output_type": "execute_result"
    }
   ],
   "source": [
    "#Downloading the required txt file\n",
    "import wget\n",
    "\n",
    "if not os.path.exists(\"spelling_en.txt\"):\n",
    "    wget.download(\"https://raw.githubusercontent.com/makcedward/nlpaug/5238e0be734841b69651d2043df535d78a8cc594/nlpaug/res/word/spelling/spelling_en.txt\")\n",
    "else:\n",
    "    print(\"File already exists\")"
   ]
  },
  {
   "cell_type": "code",
   "execution_count": 9,
   "metadata": {
    "ExecuteTime": {
     "end_time": "2021-04-03T11:17:00.723918Z",
     "start_time": "2021-04-03T11:17:00.619823Z"
    },
    "colab": {
     "base_uri": "https://localhost:8080/",
     "height": 86
    },
    "colab_type": "code",
    "id": "gOHrgDIill2F",
    "outputId": "875ad100-7492-47f2-a9a1-ea90565feb93"
   },
   "outputs": [
    {
     "name": "stdout",
     "output_type": "stream",
     "text": [
      "Original:\n",
      "The quick brown fox jumps over the lazy dog .\n",
      "Augmented Texts:\n",
      "Tha qchick brown fox jumps over athe lazy dog .\n"
     ]
    }
   ],
   "source": [
    "#Substitute word by spelling mistake words dictionary\n",
    "aug = naw.SpellingAug('spelling_en.txt')\n",
    "augmented_texts = aug.augment(text)\n",
    "print(\"Original:\")\n",
    "print(text)\n",
    "print(\"Augmented Texts:\")\n",
    "print(augmented_texts)"
   ]
  },
  {
   "cell_type": "markdown",
   "metadata": {
    "colab_type": "text",
    "id": "eaeQOtVqTQKG"
   },
   "source": [
    "**Word embeddings augmentor**"
   ]
  },
  {
   "cell_type": "code",
   "execution_count": 14,
   "metadata": {
    "ExecuteTime": {
     "end_time": "2021-04-03T11:42:53.178843Z",
     "start_time": "2021-04-03T11:42:53.163829Z"
    }
   },
   "outputs": [
    {
     "name": "stdout",
     "output_type": "stream",
     "text": [
      "Model at GoogleNews-vectors-negative300.bin\n"
     ]
    }
   ],
   "source": [
    "import gzip\n",
    "import shutil\n",
    "\n",
    "gn_vec_path = \"GoogleNews-vectors-negative300.bin\"\n",
    "if not os.path.exists(\"GoogleNews-vectors-negative300.bin\"):\n",
    "    if not os.path.exists(\"../Ch3/GoogleNews-vectors-negative300.bin\"):\n",
    "        #Downloading the reqired model\n",
    "        if not os.path.exists(\"../Ch3/GoogleNews-vectors-negative300.bin.gz\"):\n",
    "            if not os.path.exists(\"GoogleNews-vectors-negative300.bin.gz\"):\n",
    "                wget.download(\"https://s3.amazonaws.com/dl4j-distribution/GoogleNews-vectors-negative300.bin.gz\")\n",
    "            gn_vec_zip_path = \"GoogleNews-vectors-negative300.bin.gz\"\n",
    "        else:\n",
    "            gn_vec_zip_path = \"../Ch3/GoogleNews-vectors-negative300.bin.gz\"\n",
    "        #Extracting the required model\n",
    "        with gzip.open(gn_vec_zip_path, 'rb') as f_in:\n",
    "            with open(gn_vec_path, 'wb') as f_out:\n",
    "                shutil.copyfileobj(f_in, f_out)\n",
    "    else:\n",
    "        gn_vec_path = \"../Ch3/\" + gn_vec_path\n",
    "\n",
    "print(f\"Model at {gn_vec_path}\")"
   ]
  },
  {
   "cell_type": "markdown",
   "metadata": {
    "colab_type": "text",
    "id": "Jf_QHk-SgegN"
   },
   "source": [
    "Insert word randomly by word embeddings similarity"
   ]
  },
  {
   "cell_type": "code",
   "execution_count": 15,
   "metadata": {
    "ExecuteTime": {
     "end_time": "2021-04-03T11:44:12.444755Z",
     "start_time": "2021-04-03T11:43:07.255745Z"
    },
    "colab": {
     "base_uri": "https://localhost:8080/",
     "height": 86
    },
    "colab_type": "code",
    "id": "ffUb6s-XTOsQ",
    "outputId": "c4e66181-555c-4c2a-ce02-750592b3a676"
   },
   "outputs": [
    {
     "name": "stdout",
     "output_type": "stream",
     "text": [
      "Original:\n",
      "The quick brown fox jumps over the lazy dog .\n",
      "Augmented Text:\n",
      "The quick GlobeOp brown fox jumps over Exchange the Khulna lazy dog .\n"
     ]
    }
   ],
   "source": [
    "# model_type: word2vec, glove or fasttext\n",
    "aug = naw.WordEmbsAug(\n",
    "    model_type='word2vec', model_path=gn_vec_path,\n",
    "    action=\"insert\")\n",
    "augmented_text = aug.augment(text)\n",
    "print(\"Original:\")\n",
    "print(text)\n",
    "print(\"Augmented Text:\")\n",
    "print(augmented_text)"
   ]
  },
  {
   "cell_type": "markdown",
   "metadata": {
    "colab_type": "text",
    "id": "kUB3Nd4Wghd0"
   },
   "source": [
    "Substitute word by word2vec similarity\n"
   ]
  },
  {
   "cell_type": "code",
   "execution_count": 16,
   "metadata": {
    "ExecuteTime": {
     "end_time": "2021-04-03T11:44:12.948639Z",
     "start_time": "2021-04-03T11:44:12.446757Z"
    },
    "colab": {
     "base_uri": "https://localhost:8080/",
     "height": 86
    },
    "colab_type": "code",
    "id": "pSeZNfQRfy2l",
    "outputId": "37432ba5-41cd-4a6f-ffc9-8e4ef8b504af"
   },
   "outputs": [
    {
     "name": "stdout",
     "output_type": "stream",
     "text": [
      "Original:\n",
      "The quick brown fox jumps over the lazy dog .\n",
      "Augmented Text:\n",
      "Though quick brown fox Leaping over it lazy dog .\n"
     ]
    }
   ],
   "source": [
    "aug = naw.WordEmbsAug(\n",
    "    model_type='word2vec', model_path=gn_vec_path,\n",
    "    action=\"substitute\")\n",
    "augmented_text = aug.augment(text)\n",
    "print(\"Original:\")\n",
    "print(text)\n",
    "print(\"Augmented Text:\")\n",
    "print(augmented_text)"
   ]
  },
  {
   "cell_type": "markdown",
   "metadata": {
    "colab_type": "text",
    "id": "reALNlOuDI9u"
   },
   "source": [
    "There are many more features which nlpaug offers you can visit the github repo and documentation for further details"
   ]
  }
 ],
 "metadata": {
  "accelerator": "GPU",
  "colab": {
   "collapsed_sections": [],
   "machine_shape": "hm",
   "name": "Data_Augmentation_Using_NLPaug.ipynb",
   "provenance": []
  },
  "kernelspec": {
   "display_name": "Python 3",
   "language": "python",
   "name": "python3"
  },
  "language_info": {
   "codemirror_mode": {
    "name": "ipython",
    "version": 3
   },
   "file_extension": ".py",
   "mimetype": "text/x-python",
   "name": "python",
   "nbconvert_exporter": "python",
   "pygments_lexer": "ipython3",
   "version": "3.6.8"
  }
 },
 "nbformat": 4,
 "nbformat_minor": 1
}
